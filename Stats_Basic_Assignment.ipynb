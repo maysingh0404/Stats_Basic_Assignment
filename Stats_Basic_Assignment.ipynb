{
  "nbformat": 4,
  "nbformat_minor": 0,
  "metadata": {
    "colab": {
      "provenance": []
    },
    "kernelspec": {
      "name": "python3",
      "display_name": "Python 3"
    },
    "language_info": {
      "name": "python"
    }
  },
  "cells": [
    {
      "cell_type": "markdown",
      "source": [
        "# STATS BASICS"
      ],
      "metadata": {
        "id": "ReNGhFpL1RzD"
      }
    },
    {
      "cell_type": "markdown",
      "source": [
        "1. What is the difference between descriptive statistics and inferential statistics? Explain with examples.\n",
        "  - Descriptive statistics involves summarizing and organizing data so that it can be easily understood. It focuses on describing the main features of a data set, often through visualizations or numerical measures. Essentially, it gives a clear picture of the data without making any conclusions or predictions beyond the data itself.\n",
        "  Key Tools in Descriptive Statistics:\n",
        "* Measures of Central Tendency: Mean, median, mode\n",
        "* Measures of Dispersion: Range, variance, standard deviation\n",
        "* Graphical Representations: Histograms, bar charts, pie charts, box plots\n",
        "  Example of Descriptive Statistics:\n",
        "Let's say you have the test scores of 10 students:\n",
        "85,92,76,88,95,71,80,89,90,78\n",
        "You can summarize the data with descriptive statistics:\n",
        "* Mean (average) =( 85+92+76+88+95+71+80+89+90+78)/10=84.4\n",
        "* Median = 84.5 (middle value when ordered)\n",
        "\n",
        "Inferential statistics, on the other hand, goes beyond describing the data. It involves making inferences or predictions about a population based on a sample of data. Inferential statistics uses probability theory to test hypotheses and estimate population parameters, such as means or proportions.\n",
        "Example of Inferential Statistics:\n",
        "Imagine you want to know the average height of all 10th-grade students in a country. Instead of measuring every student, you take a random sample of 100 students and calculate the sample mean height.\n",
        "* Sample Mean = 160 cm\n",
        "* Confidence Interval: Based on the sample, you estimate that the true population mean height is between 158 cm and 162 cm with 95% confidence.\n",
        "\n",
        "\n",
        "2. What is sampling in statistics? Explain the differences between random and\n",
        "stratified sampling.\n",
        "  -  Sampling in statistics refers to the process of selecting a subset of individuals, items, or data points from a larger population to make inferences about that population. Since it is often impractical or impossible to collect data from the entire population (especially when the population is large), sampling allows researchers to work with a smaller, more manageable\n",
        "  group while still being able to make valid conclusions about the whole population\n",
        "Key Differences Between Random Sampling and Stratified Sampling:-\n",
        "Characteristic\n",
        " 1. Random Sampling Every member of the population has an equal chance of being\n",
        "selected but in Stratified Sampling Population is divided into strata, and samples are taken from each stratum\n",
        " 2. The purpose of Random Sampling To get a random subset of the population and in Stratified Sampling To ensure representation of key subgroups or strata.\n",
        " 3. Sample Representation in Random Sampling May or may not represent all\n",
        "subgroups well but in Stratified Sampling Ensures each subgroup is represented\n",
        "according to its proportion in the population.\n",
        "\n",
        "\n",
        "3. Define mean, median, and mode. Explain why these measures of central\n",
        "tendency are important.\n",
        "  -  Measures of central tendency are statistical tools used to summarize a set of data by identifying the central point within that data. These measures help in understanding the general trend or \"average\" of a dataset. The three most common measures of central tendency are mean, median, and mode.\n",
        "  * Mean:-\n",
        "The mean (often referred to as the average) is the sum of all the data values divided by the total number of data points.\n",
        "Importance of Mean:\n",
        "  a. The mean is sensitive to every data point in the set, which makes it ideal for normally distributed data where values are symmetrically spread around a central point.\n",
        "  b. It provides a good overall measure of the dataset when data points are relatively similar or \"normal.\"\n",
        "  * Median:-\n",
        "The median is the middle value when the data points are arranged in ascending (or descending) order. If there is an odd number of data points, the median is the middle value. If there is an even number of data points, the median is the average of the two middle values.\n",
        "Importance of Median:\n",
        "  a. The median is not affected by extreme values (outliers), making it a better measure of central tendency when the data contains outliers or skewed distributions.\n",
        "  b. It is particularly useful in non-symmetrical distributions or when the data set contains significant extremes that would skew the mean.\n",
        "  * Mode :-\n",
        "The mode is the value that appears most frequently in the data set. A data set can have:\n",
        "- No mode (if no number repeats),\n",
        "- One mode (unimodal, if one value occurs most frequently),\n",
        "- Two modes (bimodal, if two values occur with equal highest frequency),\n",
        "- Multiple modes (multimodal, if more than two values occur with the\n",
        "  same highest frequency)\n",
        "Importance of Mode:\n",
        "  a. The mode is useful when we want to know the most common or\n",
        "     frequent occurrence in a dataset.\n",
        "  b. It's particularly useful for categorical data where we want to\n",
        "     know the most common category (e.g., most popular brand, most frequent\n",
        "     survey response).\n",
        "\n",
        "4. Explain skewness and kurtosis. What does a positive skew imply about the\n",
        "data?\n",
        "  -  Both skewness and kurtosis are measures used to describe the shape of a distribution, providing insights into the asymmetry and tailedness of the data, respectively. These two concepts help in understanding the distribution's shape, which is crucial for makingassumptions about the data before performing statistical tests or modeling.\n",
        "  * Positive Skew (Right Skew):\n",
        "        When data has a positive skew, the tail on the right side of the\n",
        "        distribution is longer or more spread out. This means that most of the data points are clustered on the left side, with a few extreme larger values pulling the distribution to the right.\n",
        "    Example of Positive Skew:\n",
        "       Consider a dataset of people's incomes:\n",
        "             $25,000,$30,000,$35,000,$40,000,$1,000,000\n",
        "       The majority of the values are clustered around $25,000-$40,000,\n",
        "       but the single large value of $1,000,000 will pull the mean higher, creating a positive skew.\n",
        "\n",
        "\n",
        "\n"
      ],
      "metadata": {
        "id": "GGQ7exs31XK0"
      }
    },
    {
      "cell_type": "code",
      "source": [
        "5. Implement a Python program to compute the mean, median, and mode of a\n",
        "given list of numbers. numbers = [12, 15, 12, 18, 19, 12, 20, 22, 19, 19, 24, 24, 24, 26, 28]."
      ],
      "metadata": {
        "id": "vgKWOIo_6BkL"
      },
      "execution_count": null,
      "outputs": []
    },
    {
      "cell_type": "code",
      "source": [
        "import statistics\n",
        "# Given list of numbers\n",
        "numbers = [12, 15, 12, 18, 19, 12, 20, 22, 19, 19, 24, 24, 24, 26, 28]\n",
        "# Compute mean, median, and mode\n",
        "mean = statistics.mean(numbers)\n",
        "median = statistics.median(numbers)\n",
        "mode = statistics.mode(numbers)\n",
        "print(f\"Mean: {mean}\")\n",
        "print(f\"Median: {median}\")\n",
        "print(f\"Mode: {mode}\")"
      ],
      "metadata": {
        "colab": {
          "base_uri": "https://localhost:8080/"
        },
        "id": "bIiHda-Z6Dlb",
        "outputId": "f1259e92-7e76-4994-cbac-2452baecd8d0"
      },
      "execution_count": 2,
      "outputs": [
        {
          "output_type": "stream",
          "name": "stdout",
          "text": [
            "Mean: 19.6\n",
            "Median: 19\n",
            "Mode: 12\n"
          ]
        }
      ]
    },
    {
      "cell_type": "code",
      "source": [
        "6. Compute the covariance and correlation coefficient between the following two\n",
        "datasets provided as lists in Python: list_x = [10, 20, 30, 40, 50] list_y = [15, 25, 35, 45,\n",
        "60]."
      ],
      "metadata": {
        "id": "gKydaV406Mff"
      },
      "execution_count": null,
      "outputs": []
    },
    {
      "cell_type": "code",
      "source": [
        "import numpy as np\n",
        "\n",
        "# Given datasets\n",
        "list_x = [10, 20, 30, 40, 50]\n",
        "list_y = [15, 25, 35, 45, 60]\n",
        "\n",
        "# Compute covariance matrix\n",
        "cov_matrix = np.cov(list_x, list_y, bias=False)\n",
        "covariance = cov_matrix[0, 1]\n",
        "\n",
        "# Compute correlation coefficient\n",
        "correlation_matrix = np.corrcoef(list_x, list_y)\n",
        "correlation_coefficient = correlation_matrix[0, 1]\n",
        "\n",
        "print(f\"Covariance: {covariance}\")\n",
        "print(f\"Correlation Coefficient: {correlation_coefficient}\")"
      ],
      "metadata": {
        "colab": {
          "base_uri": "https://localhost:8080/"
        },
        "id": "3UKDApF76THs",
        "outputId": "b0ad4628-682e-40c2-95b7-8c95205279ff"
      },
      "execution_count": 3,
      "outputs": [
        {
          "output_type": "stream",
          "name": "stdout",
          "text": [
            "Covariance: 275.0\n",
            "Correlation Coefficient: 0.995893206467704\n"
          ]
        }
      ]
    },
    {
      "cell_type": "code",
      "source": [
        "7. Write a Python script to draw a boxplot for the following numeric list and\n",
        "identify its outliers. Explain the result: data = [12, 14, 14, 15, 18, 19, 19, 21, 22, 22, 23,\n",
        "23, 24, 26, 29, 35]."
      ],
      "metadata": {
        "id": "4tZ1ZqcO6V3D"
      },
      "execution_count": null,
      "outputs": []
    },
    {
      "cell_type": "code",
      "source": [
        " import matplotlib.pyplot as plt\n",
        "import seaborn as sns\n",
        "\n",
        "# Given dataset\n",
        "data = [12, 14, 14, 15, 18, 19, 19, 21, 22, 22, 23, 23, 24, 26, 29, 35]\n",
        "\n",
        "# Create a boxplot using Seaborn\n",
        "plt.figure(figsize=(8, 6))\n",
        "sns.boxplot(data=data)\n",
        "\n",
        "# Add title and labels\n",
        "plt.title('Boxplot of Data')\n",
        "plt.ylabel('Values')\n",
        "\n",
        "# Show the plot\n",
        "plt.show()"
      ],
      "metadata": {
        "colab": {
          "base_uri": "https://localhost:8080/",
          "height": 526
        },
        "id": "KtMcC2Uo6ZYW",
        "outputId": "1eb7fc71-3ead-472e-b746-a5fee4b20399"
      },
      "execution_count": 4,
      "outputs": [
        {
          "output_type": "display_data",
          "data": {
            "text/plain": [
              "<Figure size 800x600 with 1 Axes>"
            ],
            "image/png": "[encoded data removed]"
          },
          "metadata": {}
        }
      ]
    },
    {
      "cell_type": "code",
      "source": [
        "8. You are working as a data analyst in an e-commerce company. The marketing\n",
        "team wants to know if there is a relationship between advertising spend and daily sales.\n",
        "● Explain how you would use covariance and correlation to explore this relationship.\n",
        "● Write Python code to compute the correlation between the two lists:\n",
        "advertising_spend = [200, 250, 300, 400, 500]\n",
        "daily_sales = [2200, 2450, 2750, 3200, 4000]"
      ],
      "metadata": {
        "id": "oVxp3Gyq6c_v"
      },
      "execution_count": null,
      "outputs": []
    },
    {
      "cell_type": "code",
      "source": [
        "# Covariance: First, calculate the covariance to see if there is a general trend\n",
        "#(positive or negative) between advertising spend and sales.\n",
        "# Correlation: Then, calculate the correlation to quantify the strength of the linear\n",
        "# relationship and confirm the direction of that relationship."
      ],
      "metadata": {
        "id": "XWzvTry36mZy"
      },
      "execution_count": null,
      "outputs": []
    },
    {
      "cell_type": "code",
      "source": [
        "import numpy as np\n",
        "# Given lists\n",
        "advertising_spend = [200, 250, 300, 400, 500]\n",
        "daily_sales = [2200, 2450, 2750, 3200, 4000]\n",
        "# Compute the correlation coefficient\n",
        "correlation_matrix = np.corrcoef(advertising_spend, daily_sales)\n",
        "correlation_coefficient = correlation_matrix[0, 1]\n",
        "print(f\"Correlation Coefficient: {correlation_coefficient}\")"
      ],
      "metadata": {
        "colab": {
          "base_uri": "https://localhost:8080/"
        },
        "id": "yaU0uP166zCI",
        "outputId": "45ee2d8f-9d10-4bd3-9475-8e05fddeda59"
      },
      "execution_count": 5,
      "outputs": [
        {
          "output_type": "stream",
          "name": "stdout",
          "text": [
            "Correlation Coefficient: 0.9935824101653329\n"
          ]
        }
      ]
    },
    {
      "cell_type": "code",
      "source": [
        "9. Your team has collected customer satisfaction survey data on a scale of 1-10 and wants\n",
        "to understand its distribution before launching a new product.\n",
        "● Explain which summary statistics and visualizations (e.g. mean, standard deviation, histogram)\n",
        "you'd use.\n",
        "● Write Python code to create a histogram using Matplotlib for the survey data:\n",
        "survey_scores = [7, 8, 5, 9, 6, 7, 8, 9, 10, 4, 7, 6, 9, 8, 7]"
      ],
      "metadata": {
        "id": "1g9M4iMr61CB"
      },
      "execution_count": null,
      "outputs": []
    },
    {
      "cell_type": "code",
      "source": [
        "# MEAN: The average score of all the survey responses, which will give you an idea of the\n",
        "# general customer sentiment.\n",
        "# MEDIAN: The middle value when the data is sorted, useful for understanding the central\n",
        "# tendency without being influenced by extreme values.\n",
        "#  MODE: The most frequently occurring score, which helps in identifying the most common\n",
        "# customer satisfaction rating.\n",
        "# STANDARD DEVIATION: Measures the spread of the data. A high standard deviation means\n",
        "# that there is a lot of variability in customer satisfaction, whereas a low standard deviation\n",
        "# indicates that the scores are more clustered around the mean.\n",
        "# RANGE: The difference between the maximum and minimum score, which can give you a\n",
        "# quick idea of the spread of the data.\n",
        "# Interquartile Range (IQR): The range between the first (Q1) and third (Q3) quartiles.\n",
        "# This helps in identifying how concentrated the middle 50% of the data is.\n",
        "# The Visualization that is used :\n",
        "# -Histogram\n",
        "# -BoxPlot\n",
        "# -Bar Plot"
      ],
      "metadata": {
        "id": "f2TrpsEz665s"
      },
      "execution_count": null,
      "outputs": []
    },
    {
      "cell_type": "code",
      "source": [
        "import matplotlib.pyplot as plt\n",
        "# Survey data\n",
        "survey_scores = [7, 8, 5, 9, 6, 7, 8, 9, 10, 4, 7, 6, 9, 8, 7]\n",
        "# Create a histogram\n",
        "plt.figure(figsize=(8, 6))\n",
        "plt.hist(survey_scores, bins=10, edgecolor='black', alpha=0.7)\n",
        "# Add labels and title\n",
        "plt.title('Distribution of Customer Satisfaction Survey Scores')\n",
        "plt.xlabel('Survey Scores')\n",
        "plt.ylabel('Frequency')\n",
        "# Show the plot\n",
        "plt.show()"
      ],
      "metadata": {
        "colab": {
          "base_uri": "https://localhost:8080/",
          "height": 564
        },
        "id": "zd9MB-lT7YpH",
        "outputId": "30cd5010-c349-429c-8ce7-ca35056443b8"
      },
      "execution_count": 6,
      "outputs": [
        {
          "output_type": "display_data",
          "data": {
            "text/plain": [
              "<Figure size 800x600 with 1 Axes>"
            ],
            "image/png": "[encoded data removed]"
          },
          "metadata": {}
        }
      ]
    },
    {
      "cell_type": "code",
      "source": [],
      "metadata": {
        "id": "2G8juFW67bVK"
      },
      "execution_count": null,
      "outputs": []
    }
  ]
}